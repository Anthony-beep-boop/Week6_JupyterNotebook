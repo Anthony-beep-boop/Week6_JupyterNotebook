{
 "cells": [
  {
   "cell_type": "markdown",
   "id": "03cefff4-ded7-4d52-8358-80f4e3c26ae6",
   "metadata": {},
   "source": [
    "# Data Science Tools and Ecosystem"
   ]
  },
  {
   "cell_type": "markdown",
   "id": "00438aa7-3187-4b6b-891c-fd055fee3a0a",
   "metadata": {},
   "source": [
    "In this notebook, Data Science Tools and Ecosystem are summarized."
   ]
  },
  {
   "cell_type": "markdown",
   "id": "9d9b1dc9-fe14-4609-b5f9-617ab0551dcf",
   "metadata": {},
   "source": [
    "**Objectives:**\n",
    "* List popular languages for Data Science\n",
    "* List commonly used libraries for Data Scientists\n",
    "* List popular tools for Data Science"
   ]
  },
  {
   "cell_type": "markdown",
   "id": "f886d676-1bc1-47ed-ae14-875720ee4622",
   "metadata": {},
   "source": [
    "Some of the popular languages that Data Scientists use are:\n",
    "1.Python\n",
    "2.R\n",
    "3.Java"
   ]
  },
  {
   "cell_type": "markdown",
   "id": "9ece14ff-aef7-453f-a940-a81139033967",
   "metadata": {},
   "source": [
    "Some of the commonly used libraries used by Data Scientists include:\n",
    "1.NumPy\n",
    "2.Pandas\n",
    "3.SciPy"
   ]
  },
  {
   "cell_type": "markdown",
   "id": "c6d53188-735e-44ef-8678-f01cd9ffeb45",
   "metadata": {},
   "source": [
    "|Data Science Tools|\n",
    "-------------------\n",
    "|GitHub|\n",
    "|Jupyter Notebooks|\n",
    "|Rstudio|"
   ]
  },
  {
   "cell_type": "markdown",
   "id": "adc5d6ee-34b7-4840-a43d-7166dabbf432",
   "metadata": {},
   "source": [
    "### Below are a few examples of evaluating arithmetic expressions in Python"
   ]
  },
  {
   "cell_type": "code",
   "execution_count": 2,
   "id": "5265ccb4-1a8d-46b1-823d-19c0c3e79e41",
   "metadata": {
    "tags": []
   },
   "outputs": [
    {
     "data": {
      "text/plain": [
       "17"
      ]
     },
     "execution_count": 2,
     "metadata": {},
     "output_type": "execute_result"
    }
   ],
   "source": [
    "#This a simple arithmetic expression to mutiply then add integers\n",
    "(3*4)+5"
   ]
  },
  {
   "cell_type": "code",
   "execution_count": 3,
   "id": "f4bd4f17-b2ae-41f1-ac28-3af93f16052f",
   "metadata": {
    "tags": []
   },
   "outputs": [
    {
     "data": {
      "text/plain": [
       "3.3333333333333335"
      ]
     },
     "execution_count": 3,
     "metadata": {},
     "output_type": "execute_result"
    }
   ],
   "source": [
    "#This will convert 200 minutes to hours by diving by 60.\n",
    "200/60"
   ]
  },
  {
   "cell_type": "markdown",
   "id": "de4cc6ef-957e-4810-a639-9c7ed7684f08",
   "metadata": {},
   "source": [
    "## Author\n",
    "Anthony Clarke"
   ]
  }
 ],
 "metadata": {
  "kernelspec": {
   "display_name": "Python",
   "language": "python",
   "name": "conda-env-python-py"
  },
  "language_info": {
   "codemirror_mode": {
    "name": "ipython",
    "version": 3
   },
   "file_extension": ".py",
   "mimetype": "text/x-python",
   "name": "python",
   "nbconvert_exporter": "python",
   "pygments_lexer": "ipython3",
   "version": "3.7.12"
  }
 },
 "nbformat": 4,
 "nbformat_minor": 5
}
